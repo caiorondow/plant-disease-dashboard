{
  "cells": [
    {
      "cell_type": "code",
      "execution_count": null,
      "id": "straight-wallet",
      "metadata": {
        "execution": {
          "iopub.execute_input": "2021-04-01T06:32:37.518083Z",
          "iopub.status.busy": "2021-04-01T06:32:37.517537Z",
          "iopub.status.idle": "2021-04-01T06:32:42.426723Z",
          "shell.execute_reply": "2021-04-01T06:32:42.425655Z"
        },
        "papermill": {
          "duration": 4.927047,
          "end_time": "2021-04-01T06:32:42.426903",
          "exception": false,
          "start_time": "2021-04-01T06:32:37.499856",
          "status": "completed"
        },
        "tags": [],
        "id": "straight-wallet"
      },
      "outputs": [],
      "source": [
        "import matplotlib.pyplot as plt\n",
        "from google.colab import files\n",
        "from tensorflow import keras\n",
        "import tensorflow as tf\n",
        "import numpy as np\n",
        "import zipfile\n",
        "import shutil\n",
        "import json\n",
        "import os"
      ]
    },
    {
      "cell_type": "code",
      "execution_count": null,
      "id": "civic-longer",
      "metadata": {
        "execution": {
          "iopub.execute_input": "2021-04-01T06:32:42.460451Z",
          "iopub.status.busy": "2021-04-01T06:32:42.458690Z",
          "iopub.status.idle": "2021-04-01T06:32:42.461019Z",
          "shell.execute_reply": "2021-04-01T06:32:42.461420Z"
        },
        "papermill": {
          "duration": 0.020613,
          "end_time": "2021-04-01T06:32:42.461544",
          "exception": false,
          "start_time": "2021-04-01T06:32:42.440931",
          "status": "completed"
        },
        "tags": [],
        "id": "civic-longer"
      },
      "outputs": [],
      "source": [
        "image_size = 224\n",
        "target_size = (image_size, image_size)\n",
        "input_shape = (image_size, image_size, 3)\n",
        "batch_size = 32\n",
        "epochs = 25"
      ]
    },
    {
      "cell_type": "code",
      "source": [
        "from google.colab import drive\n",
        "drive.mount('/content/drive')"
      ],
      "metadata": {
        "colab": {
          "base_uri": "https://localhost:8080/"
        },
        "id": "YCUMisqSusUV",
        "outputId": "e47ca3bf-086c-4231-969a-4d2dbb1141e1"
      },
      "id": "YCUMisqSusUV",
      "execution_count": null,
      "outputs": [
        {
          "output_type": "stream",
          "name": "stdout",
          "text": [
            "Mounted at /content/drive\n"
          ]
        }
      ]
    },
    {
      "cell_type": "code",
      "source": [
        "!unzip /content/drive/MyDrive/ufvfolder/psvillageds.zip -d /content/"
      ],
      "metadata": {
        "id": "eWWf1PNj6JKD"
      },
      "id": "eWWf1PNj6JKD",
      "execution_count": null,
      "outputs": []
    },
    {
      "cell_type": "code",
      "source": [
        "!rm -r input\n",
        "!mkdir input"
      ],
      "metadata": {
        "id": "oRHgAlK4nnPu"
      },
      "id": "oRHgAlK4nnPu",
      "execution_count": null,
      "outputs": []
    },
    {
      "cell_type": "code",
      "source": [
        "def copy_images(source_dir, destination_dir, num_images):\n",
        "    # Get a list of all files in the source directory\n",
        "    files = os.listdir(source_dir)\n",
        "    cnt = 0\n",
        "    # Copy the specified number of images to the destination directory\n",
        "    for i, image_file in enumerate(files[:num_images]):\n",
        "        source_path = os.path.join(source_dir, image_file)\n",
        "        destination_path = os.path.join(destination_dir, image_file)\n",
        "        shutil.copy2(source_path, destination_path)\n",
        "        # print(destination_path)\n",
        "        cnt+=1\n",
        "\n",
        "    print(f\"{cnt} images in {source_dir} copied.\")\n",
        "\n",
        "# Example usage\n",
        "source_directory = '/content/New Plant Diseases Dataset(Augmented)/New Plant Diseases Dataset(Augmented)/train/'\n",
        "destination_directory = '/content/input/'\n",
        "num_images_to_copy = 570\n",
        "\n",
        "folders = [folder for folder in os.listdir(source_directory) if os.path.isdir(os.path.join(source_directory, folder))]\n",
        "\n",
        "for folder in folders:\n",
        "    # print(source_directory+\"/\"+folder)\n",
        "    copy_images(source_directory+folder, destination_directory, num_images_to_copy)\n"
      ],
      "metadata": {
        "id": "qF8XWzNBa6t_"
      },
      "id": "qF8XWzNBa6t_",
      "execution_count": null,
      "outputs": []
    },
    {
      "cell_type": "code",
      "source": [
        "def zip_folder(folder_path, output_path):\n",
        "    with zipfile.ZipFile(output_path, 'w', zipfile.ZIP_DEFLATED) as zipf:\n",
        "        for root, dirs, files in os.walk(folder_path):\n",
        "            for file in files:\n",
        "                file_path = os.path.join(root, file)\n",
        "                zipf.write(file_path, arcname=os.path.relpath(file_path, folder_path))\n",
        "\n",
        "folder_path = '/content/input'  # Replace with the path to your folder\n",
        "output_path = '/content/myinput.zip'  # Replace with the desired output path\n",
        "\n",
        "zip_folder(folder_path, output_path)\n",
        "print(\"Folder zipped successfully.\")"
      ],
      "metadata": {
        "colab": {
          "base_uri": "https://localhost:8080/"
        },
        "id": "80hgUChhdApJ",
        "outputId": "f62961fc-ac2c-49bd-9e48-a8e5889d86e8"
      },
      "id": "80hgUChhdApJ",
      "execution_count": 1,
      "outputs": [
        {
          "output_type": "stream",
          "name": "stdout",
          "text": [
            "Folder zipped successfully.\n"
          ]
        }
      ]
    },
    {
      "cell_type": "code",
      "source": [
        "from google.colab import files\n",
        "\n",
        "# Specify the path to the zip file\n",
        "zip_file_path = '/content/myinput.zip'  # Replace with the actual path of the zip file\n",
        "\n",
        "# Download the zip file\n",
        "files.download(zip_file_path)\n"
      ],
      "metadata": {
        "colab": {
          "base_uri": "https://localhost:8080/",
          "height": 34
        },
        "id": "RmB0EKoVfcSM",
        "outputId": "b60cd130-1cf3-4f29-f61f-cb01686d5a43"
      },
      "id": "RmB0EKoVfcSM",
      "execution_count": null,
      "outputs": [
        {
          "output_type": "display_data",
          "data": {
            "text/plain": [
              "<IPython.core.display.Javascript object>"
            ],
            "application/javascript": [
              "\n",
              "    async function download(id, filename, size) {\n",
              "      if (!google.colab.kernel.accessAllowed) {\n",
              "        return;\n",
              "      }\n",
              "      const div = document.createElement('div');\n",
              "      const label = document.createElement('label');\n",
              "      label.textContent = `Downloading \"${filename}\": `;\n",
              "      div.appendChild(label);\n",
              "      const progress = document.createElement('progress');\n",
              "      progress.max = size;\n",
              "      div.appendChild(progress);\n",
              "      document.body.appendChild(div);\n",
              "\n",
              "      const buffers = [];\n",
              "      let downloaded = 0;\n",
              "\n",
              "      const channel = await google.colab.kernel.comms.open(id);\n",
              "      // Send a message to notify the kernel that we're ready.\n",
              "      channel.send({})\n",
              "\n",
              "      for await (const message of channel.messages) {\n",
              "        // Send a message to notify the kernel that we're ready.\n",
              "        channel.send({})\n",
              "        if (message.buffers) {\n",
              "          for (const buffer of message.buffers) {\n",
              "            buffers.push(buffer);\n",
              "            downloaded += buffer.byteLength;\n",
              "            progress.value = downloaded;\n",
              "          }\n",
              "        }\n",
              "      }\n",
              "      const blob = new Blob(buffers, {type: 'application/binary'});\n",
              "      const a = document.createElement('a');\n",
              "      a.href = window.URL.createObjectURL(blob);\n",
              "      a.download = filename;\n",
              "      div.appendChild(a);\n",
              "      a.click();\n",
              "      div.remove();\n",
              "    }\n",
              "  "
            ]
          },
          "metadata": {}
        },
        {
          "output_type": "display_data",
          "data": {
            "text/plain": [
              "<IPython.core.display.Javascript object>"
            ],
            "application/javascript": [
              "download(\"download_a44d7551-9efe-4eea-a03a-4b49ba1d983d\", \"myinput.zip\", 351047671)"
            ]
          },
          "metadata": {}
        }
      ]
    },
    {
      "cell_type": "code",
      "execution_count": null,
      "id": "million-season",
      "metadata": {
        "execution": {
          "iopub.execute_input": "2021-04-01T06:32:42.523502Z",
          "iopub.status.busy": "2021-04-01T06:32:42.521744Z",
          "iopub.status.idle": "2021-04-01T06:32:42.524127Z",
          "shell.execute_reply": "2021-04-01T06:32:42.524651Z"
        },
        "papermill": {
          "duration": 0.020753,
          "end_time": "2021-04-01T06:32:42.524791",
          "exception": false,
          "start_time": "2021-04-01T06:32:42.504038",
          "status": "completed"
        },
        "tags": [],
        "id": "million-season"
      },
      "outputs": [],
      "source": [
        "base_dir = \"/content/New Plant Diseases Dataset(Augmented)/New Plant Diseases Dataset(Augmented)\"\n",
        "train_dir = os.path.join(base_dir,\"train\")\n",
        "test_dir = os.path.join(base_dir,\"valid\")"
      ]
    },
    {
      "cell_type": "code",
      "execution_count": null,
      "id": "compressed-liability",
      "metadata": {
        "execution": {
          "iopub.execute_input": "2021-04-01T06:32:42.585572Z",
          "iopub.status.busy": "2021-04-01T06:32:42.585082Z",
          "iopub.status.idle": "2021-04-01T06:32:42.588644Z",
          "shell.execute_reply": "2021-04-01T06:32:42.588137Z"
        },
        "papermill": {
          "duration": 0.021833,
          "end_time": "2021-04-01T06:32:42.588752",
          "exception": false,
          "start_time": "2021-04-01T06:32:42.566919",
          "status": "completed"
        },
        "tags": [],
        "id": "compressed-liability"
      },
      "outputs": [],
      "source": [
        "train_datagen = keras.preprocessing.image.ImageDataGenerator(rescale = 1/255.0,\n",
        "                                                             shear_range = 0.2,\n",
        "                                                             zoom_range = 0.2,\n",
        "                                                             width_shift_range = 0.2,\n",
        "                                                             height_shift_range = 0.2,\n",
        "                                                             fill_mode=\"nearest\")\n",
        "\n",
        "test_datagen = keras.preprocessing.image.ImageDataGenerator(rescale = 1/255.0)"
      ]
    },
    {
      "cell_type": "code",
      "execution_count": null,
      "id": "internal-chinese",
      "metadata": {
        "execution": {
          "iopub.execute_input": "2021-04-01T06:32:42.649149Z",
          "iopub.status.busy": "2021-04-01T06:32:42.648568Z",
          "iopub.status.idle": "2021-04-01T06:33:19.141879Z",
          "shell.execute_reply": "2021-04-01T06:33:19.142278Z"
        },
        "papermill": {
          "duration": 36.511532,
          "end_time": "2021-04-01T06:33:19.142443",
          "exception": false,
          "start_time": "2021-04-01T06:32:42.630911",
          "status": "completed"
        },
        "tags": [],
        "id": "internal-chinese",
        "outputId": "04b3a7e6-9f3a-462c-d6c0-b2f07694c9dc",
        "colab": {
          "base_uri": "https://localhost:8080/"
        }
      },
      "outputs": [
        {
          "output_type": "stream",
          "name": "stdout",
          "text": [
            "Found 70295 images belonging to 38 classes.\n",
            "Found 17572 images belonging to 38 classes.\n"
          ]
        }
      ],
      "source": [
        "train_data = train_datagen.flow_from_directory(train_dir,\n",
        "                                               target_size = (image_size, image_size),\n",
        "                                               batch_size = batch_size,\n",
        "                                               class_mode = \"categorical\")\n",
        "\n",
        "test_data = test_datagen.flow_from_directory(test_dir,\n",
        "                                             target_size = (image_size, image_size),\n",
        "                                             batch_size = batch_size,\n",
        "                                             class_mode = \"categorical\")"
      ]
    },
    {
      "cell_type": "code",
      "execution_count": null,
      "id": "tender-shell",
      "metadata": {
        "execution": {
          "iopub.execute_input": "2021-04-01T06:33:19.207386Z",
          "iopub.status.busy": "2021-04-01T06:33:19.206622Z",
          "iopub.status.idle": "2021-04-01T06:33:19.210255Z",
          "shell.execute_reply": "2021-04-01T06:33:19.210943Z"
        },
        "papermill": {
          "duration": 0.023207,
          "end_time": "2021-04-01T06:33:19.211115",
          "exception": false,
          "start_time": "2021-04-01T06:33:19.187908",
          "status": "completed"
        },
        "tags": [],
        "id": "tender-shell",
        "outputId": "1d3d9edd-3277-4ac0-f450-e172d3e0b7aa",
        "colab": {
          "base_uri": "https://localhost:8080/"
        }
      },
      "outputs": [
        {
          "output_type": "stream",
          "name": "stdout",
          "text": [
            "{'Apple___Apple_scab': 0, 'Apple___Black_rot': 1, 'Apple___Cedar_apple_rust': 2, 'Apple___healthy': 3, 'Blueberry___healthy': 4, 'Cherry_(including_sour)___Powdery_mildew': 5, 'Cherry_(including_sour)___healthy': 6, 'Corn_(maize)___Cercospora_leaf_spot Gray_leaf_spot': 7, 'Corn_(maize)___Common_rust_': 8, 'Corn_(maize)___Northern_Leaf_Blight': 9, 'Corn_(maize)___healthy': 10, 'Grape___Black_rot': 11, 'Grape___Esca_(Black_Measles)': 12, 'Grape___Leaf_blight_(Isariopsis_Leaf_Spot)': 13, 'Grape___healthy': 14, 'Orange___Haunglongbing_(Citrus_greening)': 15, 'Peach___Bacterial_spot': 16, 'Peach___healthy': 17, 'Pepper,_bell___Bacterial_spot': 18, 'Pepper,_bell___healthy': 19, 'Potato___Early_blight': 20, 'Potato___Late_blight': 21, 'Potato___healthy': 22, 'Raspberry___healthy': 23, 'Soybean___healthy': 24, 'Squash___Powdery_mildew': 25, 'Strawberry___Leaf_scorch': 26, 'Strawberry___healthy': 27, 'Tomato___Bacterial_spot': 28, 'Tomato___Early_blight': 29, 'Tomato___Late_blight': 30, 'Tomato___Leaf_Mold': 31, 'Tomato___Septoria_leaf_spot': 32, 'Tomato___Spider_mites Two-spotted_spider_mite': 33, 'Tomato___Target_Spot': 34, 'Tomato___Tomato_Yellow_Leaf_Curl_Virus': 35, 'Tomato___Tomato_mosaic_virus': 36, 'Tomato___healthy': 37}\n"
          ]
        }
      ],
      "source": [
        "categories = list(train_data.class_indices.keys())\n",
        "print(train_data.class_indices)"
      ]
    },
    {
      "cell_type": "code",
      "execution_count": null,
      "id": "palestinian-intermediate",
      "metadata": {
        "execution": {
          "iopub.execute_input": "2021-04-01T06:33:19.247158Z",
          "iopub.status.busy": "2021-04-01T06:33:19.246266Z",
          "iopub.status.idle": "2021-04-01T06:33:19.253442Z",
          "shell.execute_reply": "2021-04-01T06:33:19.253035Z"
        },
        "papermill": {
          "duration": 0.026322,
          "end_time": "2021-04-01T06:33:19.253546",
          "exception": false,
          "start_time": "2021-04-01T06:33:19.227224",
          "status": "completed"
        },
        "tags": [],
        "id": "palestinian-intermediate",
        "outputId": "ad5a27ab-d67c-40e0-ae51-673ef4e2106d",
        "colab": {
          "base_uri": "https://localhost:8080/",
          "height": 34
        }
      },
      "outputs": [
        {
          "output_type": "execute_result",
          "data": {
            "text/plain": [
              "/content/class_indices.json"
            ],
            "text/html": [
              "<a href='class_indices.json' target='_blank'>class_indices.json</a><br>"
            ]
          },
          "metadata": {},
          "execution_count": 26
        }
      ],
      "source": [
        "with open('class_indices.json','w') as f:\n",
        "  json.dump(train_data.class_indices, f)\n",
        "\n",
        "from IPython.display import FileLink\n",
        "FileLink(r'class_indices.json')"
      ]
    },
    {
      "cell_type": "code",
      "execution_count": null,
      "id": "medieval-belief",
      "metadata": {
        "execution": {
          "iopub.execute_input": "2021-04-01T06:33:19.322956Z",
          "iopub.status.busy": "2021-04-01T06:33:19.322448Z",
          "iopub.status.idle": "2021-04-01T06:33:23.261749Z",
          "shell.execute_reply": "2021-04-01T06:33:23.260417Z"
        },
        "papermill": {
          "duration": 3.961398,
          "end_time": "2021-04-01T06:33:23.261913",
          "exception": false,
          "start_time": "2021-04-01T06:33:19.300515",
          "status": "completed"
        },
        "tags": [],
        "id": "medieval-belief",
        "outputId": "8b03952f-3e7e-4ac5-f430-291753efa3b7",
        "colab": {
          "base_uri": "https://localhost:8080/"
        }
      },
      "outputs": [
        {
          "output_type": "stream",
          "name": "stdout",
          "text": [
            "Downloading data from https://storage.googleapis.com/tensorflow/keras-applications/mobilenet/mobilenet_1_0_224_tf_no_top.h5\n",
            "17225924/17225924 [==============================] - 0s 0us/step\n"
          ]
        }
      ],
      "source": [
        "base_model = tf.keras.applications.MobileNet(weights = \"imagenet\",\n",
        "                                             include_top = False,\n",
        "                                             input_shape = input_shape)\n",
        "\n",
        "base_model.trainable = False"
      ]
    },
    {
      "cell_type": "code",
      "execution_count": null,
      "id": "classical-cross",
      "metadata": {
        "execution": {
          "iopub.execute_input": "2021-04-01T06:33:23.339572Z",
          "iopub.status.busy": "2021-04-01T06:33:23.338783Z",
          "iopub.status.idle": "2021-04-01T06:33:23.517062Z",
          "shell.execute_reply": "2021-04-01T06:33:23.516617Z"
        },
        "papermill": {
          "duration": 0.202453,
          "end_time": "2021-04-01T06:33:23.517183",
          "exception": false,
          "start_time": "2021-04-01T06:33:23.314730",
          "status": "completed"
        },
        "tags": [],
        "id": "classical-cross"
      },
      "outputs": [],
      "source": [
        "inputs = keras.Input(shape = input_shape)\n",
        "\n",
        "x = base_model(inputs, training = False)\n",
        "x = tf.keras.layers.GlobalAveragePooling2D()(x)\n",
        "x = tf.keras.layers.Dropout(0.2)(x)\n",
        "x = tf.keras.layers.Dense(len(categories),\n",
        "                          activation=\"softmax\")(x)\n",
        "\n",
        "model = keras.Model(inputs = inputs,\n",
        "                    outputs = x,\n",
        "                    name=\"LeafDisease_MobileNet\")"
      ]
    },
    {
      "cell_type": "code",
      "execution_count": null,
      "id": "ancient-performer",
      "metadata": {
        "execution": {
          "iopub.execute_input": "2021-04-01T06:33:23.597770Z",
          "iopub.status.busy": "2021-04-01T06:33:23.596993Z",
          "iopub.status.idle": "2021-04-01T06:33:23.610996Z",
          "shell.execute_reply": "2021-04-01T06:33:23.610579Z"
        },
        "papermill": {
          "duration": 0.041429,
          "end_time": "2021-04-01T06:33:23.611102",
          "exception": false,
          "start_time": "2021-04-01T06:33:23.569673",
          "status": "completed"
        },
        "tags": [],
        "id": "ancient-performer"
      },
      "outputs": [],
      "source": [
        "optimizer = tf.keras.optimizers.Adam()\n",
        "\n",
        "model.compile(optimizer = optimizer,\n",
        "              loss = tf.keras.losses.CategoricalCrossentropy(from_logits = True),\n",
        "              metrics=[keras.metrics.CategoricalAccuracy(),\n",
        "                       'accuracy'])"
      ]
    },
    {
      "cell_type": "code",
      "execution_count": null,
      "id": "suspended-concept",
      "metadata": {
        "execution": {
          "iopub.execute_input": "2021-04-01T06:33:23.649937Z",
          "iopub.status.busy": "2021-04-01T06:33:23.649431Z",
          "iopub.status.idle": "2021-04-01T07:03:49.179361Z",
          "shell.execute_reply": "2021-04-01T07:03:49.179930Z"
        },
        "papermill": {
          "duration": 1825.551809,
          "end_time": "2021-04-01T07:03:49.180088",
          "exception": false,
          "start_time": "2021-04-01T06:33:23.628279",
          "status": "completed"
        },
        "tags": [],
        "id": "suspended-concept",
        "outputId": "b0632ee5-c3f0-4c0f-a836-07b3a8cc642f",
        "colab": {
          "base_uri": "https://localhost:8080/"
        }
      },
      "outputs": [
        {
          "output_type": "stream",
          "name": "stdout",
          "text": [
            "Epoch 1/25\n"
          ]
        },
        {
          "output_type": "stream",
          "name": "stderr",
          "text": [
            "/usr/local/lib/python3.10/dist-packages/keras/backend.py:5561: UserWarning: \"`categorical_crossentropy` received `from_logits=True`, but the `output` argument was produced by a Softmax activation and thus does not represent logits. Was this intended?\n",
            "  output, from_logits = _get_logits(\n"
          ]
        },
        {
          "output_type": "stream",
          "name": "stdout",
          "text": [
            "150/150 [==============================] - 91s 535ms/step - loss: 1.9518 - categorical_accuracy: 0.4896 - accuracy: 0.4896 - val_loss: 0.7837 - val_categorical_accuracy: 0.8003 - val_accuracy: 0.8003\n",
            "Epoch 2/25\n",
            "150/150 [==============================] - 76s 506ms/step - loss: 0.7662 - categorical_accuracy: 0.7867 - accuracy: 0.7867 - val_loss: 0.5035 - val_categorical_accuracy: 0.8681 - val_accuracy: 0.8681\n",
            "Epoch 3/25\n",
            "150/150 [==============================] - 75s 502ms/step - loss: 0.5537 - categorical_accuracy: 0.8402 - accuracy: 0.8402 - val_loss: 0.4150 - val_categorical_accuracy: 0.8844 - val_accuracy: 0.8844\n",
            "Epoch 4/25\n",
            "150/150 [==============================] - 77s 511ms/step - loss: 0.4676 - categorical_accuracy: 0.8652 - accuracy: 0.8652 - val_loss: 0.3387 - val_categorical_accuracy: 0.9009 - val_accuracy: 0.9009\n",
            "Epoch 5/25\n",
            "150/150 [==============================] - 74s 492ms/step - loss: 0.4059 - categorical_accuracy: 0.8808 - accuracy: 0.8808 - val_loss: 0.2932 - val_categorical_accuracy: 0.9084 - val_accuracy: 0.9084\n",
            "Epoch 6/25\n",
            "150/150 [==============================] - 73s 484ms/step - loss: 0.3929 - categorical_accuracy: 0.8771 - accuracy: 0.8771 - val_loss: 0.2773 - val_categorical_accuracy: 0.9100 - val_accuracy: 0.9100\n",
            "Epoch 7/25\n",
            "150/150 [==============================] - 76s 504ms/step - loss: 0.3266 - categorical_accuracy: 0.9002 - accuracy: 0.9002 - val_loss: 0.2445 - val_categorical_accuracy: 0.9241 - val_accuracy: 0.9241\n",
            "Epoch 8/25\n",
            "150/150 [==============================] - 72s 479ms/step - loss: 0.3017 - categorical_accuracy: 0.9110 - accuracy: 0.9110 - val_loss: 0.2231 - val_categorical_accuracy: 0.9312 - val_accuracy: 0.9312\n",
            "Epoch 9/25\n",
            "150/150 [==============================] - 71s 472ms/step - loss: 0.2942 - categorical_accuracy: 0.9108 - accuracy: 0.9108 - val_loss: 0.2370 - val_categorical_accuracy: 0.9231 - val_accuracy: 0.9231\n",
            "Epoch 10/25\n",
            "150/150 [==============================] - 73s 487ms/step - loss: 0.2992 - categorical_accuracy: 0.9075 - accuracy: 0.9075 - val_loss: 0.2208 - val_categorical_accuracy: 0.9312 - val_accuracy: 0.9312\n",
            "Epoch 11/25\n",
            "150/150 [==============================] - 73s 485ms/step - loss: 0.2784 - categorical_accuracy: 0.9100 - accuracy: 0.9100 - val_loss: 0.2390 - val_categorical_accuracy: 0.9175 - val_accuracy: 0.9175\n",
            "Epoch 12/25\n",
            "150/150 [==============================] - 72s 483ms/step - loss: 0.2653 - categorical_accuracy: 0.9158 - accuracy: 0.9158 - val_loss: 0.2034 - val_categorical_accuracy: 0.9344 - val_accuracy: 0.9344\n",
            "Epoch 13/25\n",
            "150/150 [==============================] - 71s 474ms/step - loss: 0.2708 - categorical_accuracy: 0.9129 - accuracy: 0.9129 - val_loss: 0.1815 - val_categorical_accuracy: 0.9406 - val_accuracy: 0.9406\n",
            "Epoch 14/25\n",
            "150/150 [==============================] - 72s 480ms/step - loss: 0.2447 - categorical_accuracy: 0.9208 - accuracy: 0.9208 - val_loss: 0.2049 - val_categorical_accuracy: 0.9284 - val_accuracy: 0.9284\n",
            "Epoch 15/25\n",
            "150/150 [==============================] - 73s 485ms/step - loss: 0.2585 - categorical_accuracy: 0.9162 - accuracy: 0.9162 - val_loss: 0.1879 - val_categorical_accuracy: 0.9356 - val_accuracy: 0.9356\n",
            "Epoch 16/25\n",
            "150/150 [==============================] - 73s 484ms/step - loss: 0.2428 - categorical_accuracy: 0.9188 - accuracy: 0.9188 - val_loss: 0.1778 - val_categorical_accuracy: 0.9391 - val_accuracy: 0.9391\n",
            "Epoch 17/25\n",
            "150/150 [==============================] - 72s 483ms/step - loss: 0.2484 - categorical_accuracy: 0.9162 - accuracy: 0.9162 - val_loss: 0.1797 - val_categorical_accuracy: 0.9416 - val_accuracy: 0.9416\n",
            "Epoch 18/25\n",
            "150/150 [==============================] - 73s 488ms/step - loss: 0.2240 - categorical_accuracy: 0.9265 - accuracy: 0.9265 - val_loss: 0.1770 - val_categorical_accuracy: 0.9419 - val_accuracy: 0.9419\n",
            "Epoch 19/25\n",
            "150/150 [==============================] - 70s 468ms/step - loss: 0.2323 - categorical_accuracy: 0.9198 - accuracy: 0.9198 - val_loss: 0.1656 - val_categorical_accuracy: 0.9459 - val_accuracy: 0.9459\n",
            "Epoch 20/25\n",
            "150/150 [==============================] - 71s 473ms/step - loss: 0.2293 - categorical_accuracy: 0.9262 - accuracy: 0.9262 - val_loss: 0.1646 - val_categorical_accuracy: 0.9475 - val_accuracy: 0.9475\n",
            "Epoch 21/25\n",
            "150/150 [==============================] - 71s 472ms/step - loss: 0.2140 - categorical_accuracy: 0.9290 - accuracy: 0.9290 - val_loss: 0.1660 - val_categorical_accuracy: 0.9450 - val_accuracy: 0.9450\n",
            "Epoch 22/25\n",
            "150/150 [==============================] - 71s 475ms/step - loss: 0.2049 - categorical_accuracy: 0.9323 - accuracy: 0.9323 - val_loss: 0.1428 - val_categorical_accuracy: 0.9522 - val_accuracy: 0.9522\n",
            "Epoch 23/25\n",
            "150/150 [==============================] - 71s 475ms/step - loss: 0.2077 - categorical_accuracy: 0.9306 - accuracy: 0.9306 - val_loss: 0.1338 - val_categorical_accuracy: 0.9544 - val_accuracy: 0.9544\n",
            "Epoch 24/25\n",
            "150/150 [==============================] - 69s 459ms/step - loss: 0.2092 - categorical_accuracy: 0.9258 - accuracy: 0.9258 - val_loss: 0.1333 - val_categorical_accuracy: 0.9572 - val_accuracy: 0.9572\n",
            "Epoch 25/25\n",
            "150/150 [==============================] - 70s 462ms/step - loss: 0.2107 - categorical_accuracy: 0.9311 - accuracy: 0.9311 - val_loss: 0.1628 - val_categorical_accuracy: 0.9444 - val_accuracy: 0.9444\n"
          ]
        }
      ],
      "source": [
        "history = model.fit(train_data,\n",
        "                    validation_data=test_data,\n",
        "                    epochs=epochs,\n",
        "                    steps_per_epoch=150,\n",
        "                    validation_steps=100)"
      ]
    },
    {
      "cell_type": "code",
      "execution_count": null,
      "id": "reported-ebony",
      "metadata": {
        "execution": {
          "iopub.execute_input": "2021-04-01T07:03:53.426366Z",
          "iopub.status.busy": "2021-04-01T07:03:53.425587Z",
          "iopub.status.idle": "2021-04-01T07:03:53.559733Z",
          "shell.execute_reply": "2021-04-01T07:03:53.560149Z"
        },
        "papermill": {
          "duration": 1.187964,
          "end_time": "2021-04-01T07:03:53.560290",
          "exception": false,
          "start_time": "2021-04-01T07:03:52.372326",
          "status": "completed"
        },
        "tags": [],
        "id": "reported-ebony",
        "outputId": "688e10db-94fe-4ca1-b207-0dd90795395d",
        "colab": {
          "base_uri": "https://localhost:8080/",
          "height": 559
        }
      },
      "outputs": [
        {
          "output_type": "execute_result",
          "data": {
            "text/plain": [
              "<matplotlib.legend.Legend at 0x7f7ba02727a0>"
            ]
          },
          "metadata": {},
          "execution_count": 31
        },
        {
          "output_type": "display_data",
          "data": {
            "text/plain": [
              "<Figure size 1000x600 with 1 Axes>"
            ],
            "image/png": "[encoded data removed]"
          },
          "metadata": {}
        }
      ],
      "source": [
        "loss = history.history['loss']\n",
        "val_loss = history.history['val_loss']\n",
        "\n",
        "epochs = range(len(loss))\n",
        "\n",
        "fig = plt.figure(figsize=(10,6))\n",
        "plt.plot(epochs,loss,c=\"red\",label=\"Training\")\n",
        "plt.plot(epochs,val_loss,c=\"blue\",label=\"Validation\")\n",
        "plt.xlabel(\"Epochs\")\n",
        "plt.ylabel(\"Loss\")\n",
        "plt.legend()"
      ]
    },
    {
      "cell_type": "code",
      "execution_count": null,
      "id": "smooth-washer",
      "metadata": {
        "execution": {
          "iopub.execute_input": "2021-04-01T07:03:55.551863Z",
          "iopub.status.busy": "2021-04-01T07:03:55.546668Z",
          "iopub.status.idle": "2021-04-01T07:03:55.664380Z",
          "shell.execute_reply": "2021-04-01T07:03:55.664796Z"
        },
        "papermill": {
          "duration": 1.125127,
          "end_time": "2021-04-01T07:03:55.665016",
          "exception": false,
          "start_time": "2021-04-01T07:03:54.539889",
          "status": "completed"
        },
        "tags": [],
        "id": "smooth-washer",
        "outputId": "f2fd63e1-de5e-4d52-8f7a-db0cab02bab4",
        "colab": {
          "base_uri": "https://localhost:8080/",
          "height": 559
        }
      },
      "outputs": [
        {
          "output_type": "execute_result",
          "data": {
            "text/plain": [
              "<matplotlib.legend.Legend at 0x7f7bb470b190>"
            ]
          },
          "metadata": {},
          "execution_count": 32
        },
        {
          "output_type": "display_data",
          "data": {
            "text/plain": [
              "<Figure size 1000x600 with 1 Axes>"
            ],
            "image/png": "[encoded data removed]"
          },
          "metadata": {}
        }
      ],
      "source": [
        "acc = history.history['categorical_accuracy']\n",
        "val_acc = history.history['val_categorical_accuracy']\n",
        "\n",
        "epochs = range(len(acc))\n",
        "\n",
        "fig = plt.figure(figsize=(10,6))\n",
        "plt.plot(epochs,acc,c=\"red\",label=\"Training\")\n",
        "plt.plot(epochs,val_acc,c=\"blue\",label=\"Validation\")\n",
        "plt.xlabel(\"Epochs\")\n",
        "plt.ylabel(\"Accuracy\")\n",
        "plt.legend()"
      ]
    },
    {
      "cell_type": "code",
      "execution_count": null,
      "id": "british-tournament",
      "metadata": {
        "execution": {
          "iopub.execute_input": "2021-04-01T07:03:59.632492Z",
          "iopub.status.busy": "2021-04-01T07:03:59.631623Z",
          "iopub.status.idle": "2021-04-01T07:04:12.896074Z",
          "shell.execute_reply": "2021-04-01T07:04:12.921686Z"
        },
        "papermill": {
          "duration": 14.284334,
          "end_time": "2021-04-01T07:04:12.921922",
          "exception": false,
          "start_time": "2021-04-01T07:03:58.637588",
          "status": "completed"
        },
        "tags": [],
        "id": "british-tournament",
        "colab": {
          "base_uri": "https://localhost:8080/"
        },
        "outputId": "2aaa4f8c-93f4-4380-8282-fb8cf9478ac7"
      },
      "outputs": [
        {
          "output_type": "stream",
          "name": "stderr",
          "text": [
            "WARNING:absl:Found untraced functions such as _jit_compiled_convolution_op, _jit_compiled_convolution_op, _jit_compiled_convolution_op, _jit_compiled_convolution_op, _jit_compiled_convolution_op while saving (showing 5 of 27). These functions will not be directly callable after loading.\n"
          ]
        }
      ],
      "source": [
        "model.save('plant_disease')"
      ]
    },
    {
      "cell_type": "code",
      "source": [
        "!zip -r /content/plant_disease.zip /content/plant_disease\n",
        "files.download(\"/content/plant_disease.zip\")"
      ],
      "metadata": {
        "colab": {
          "base_uri": "https://localhost:8080/",
          "height": 156
        },
        "id": "QOGYpCvFEUD3",
        "outputId": "693bb933-3a40-4731-d8a8-07f2b3531d81"
      },
      "id": "QOGYpCvFEUD3",
      "execution_count": null,
      "outputs": [
        {
          "output_type": "stream",
          "name": "stdout",
          "text": [
            "  adding: content/plant_disease/ (stored 0%)\n",
            "  adding: content/plant_disease/fingerprint.pb (stored 0%)\n",
            "  adding: content/plant_disease/keras_metadata.pb (deflated 96%)\n",
            "  adding: content/plant_disease/assets/ (stored 0%)\n",
            "  adding: content/plant_disease/saved_model.pb (deflated 91%)\n",
            "  adding: content/plant_disease/variables/ (stored 0%)\n",
            "  adding: content/plant_disease/variables/variables.data-00000-of-00001 (deflated 7%)\n",
            "  adding: content/plant_disease/variables/variables.index (deflated 75%)\n"
          ]
        },
        {
          "output_type": "display_data",
          "data": {
            "text/plain": [
              "<IPython.core.display.Javascript object>"
            ],
            "application/javascript": [
              "\n",
              "    async function download(id, filename, size) {\n",
              "      if (!google.colab.kernel.accessAllowed) {\n",
              "        return;\n",
              "      }\n",
              "      const div = document.createElement('div');\n",
              "      const label = document.createElement('label');\n",
              "      label.textContent = `Downloading \"${filename}\": `;\n",
              "      div.appendChild(label);\n",
              "      const progress = document.createElement('progress');\n",
              "      progress.max = size;\n",
              "      div.appendChild(progress);\n",
              "      document.body.appendChild(div);\n",
              "\n",
              "      const buffers = [];\n",
              "      let downloaded = 0;\n",
              "\n",
              "      const channel = await google.colab.kernel.comms.open(id);\n",
              "      // Send a message to notify the kernel that we're ready.\n",
              "      channel.send({})\n",
              "\n",
              "      for await (const message of channel.messages) {\n",
              "        // Send a message to notify the kernel that we're ready.\n",
              "        channel.send({})\n",
              "        if (message.buffers) {\n",
              "          for (const buffer of message.buffers) {\n",
              "            buffers.push(buffer);\n",
              "            downloaded += buffer.byteLength;\n",
              "            progress.value = downloaded;\n",
              "          }\n",
              "        }\n",
              "      }\n",
              "      const blob = new Blob(buffers, {type: 'application/binary'});\n",
              "      const a = document.createElement('a');\n",
              "      a.href = window.URL.createObjectURL(blob);\n",
              "      a.download = filename;\n",
              "      div.appendChild(a);\n",
              "      a.click();\n",
              "      div.remove();\n",
              "    }\n",
              "  "
            ]
          },
          "metadata": {}
        },
        {
          "output_type": "display_data",
          "data": {
            "text/plain": [
              "<IPython.core.display.Javascript object>"
            ],
            "application/javascript": [
              "download(\"download_65a44cd5-3d8c-4fb6-8b7c-e3be5ab4eef7\", \"plant_disease.zip\", 12635300)"
            ]
          },
          "metadata": {}
        }
      ]
    }
  ],
  "metadata": {
    "kernelspec": {
      "display_name": "Python 3",
      "name": "python3"
    },
    "language_info": {
      "codemirror_mode": {
        "name": "ipython",
        "version": 3
      },
      "file_extension": ".py",
      "mimetype": "text/x-python",
      "name": "python",
      "nbconvert_exporter": "python",
      "pygments_lexer": "ipython3",
      "version": "3.7.9"
    },
    "papermill": {
      "default_parameters": {},
      "duration": 1905.616323,
      "end_time": "2021-04-01T07:04:16.707827",
      "environment_variables": {},
      "exception": null,
      "input_path": "__notebook__.ipynb",
      "output_path": "__notebook__.ipynb",
      "parameters": {},
      "start_time": "2021-04-01T06:32:31.091504",
      "version": "2.3.2"
    },
    "colab": {
      "provenance": [],
      "gpuType": "T4"
    },
    "accelerator": "GPU"
  },
  "nbformat": 4,
  "nbformat_minor": 5
}